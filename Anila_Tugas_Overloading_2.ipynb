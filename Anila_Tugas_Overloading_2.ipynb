{
  "nbformat": 4,
  "nbformat_minor": 0,
  "metadata": {
    "colab": {
      "provenance": [],
      "include_colab_link": true
    },
    "kernelspec": {
      "name": "python3",
      "display_name": "Python 3"
    },
    "language_info": {
      "name": "python"
    }
  },
  "cells": [
    {
      "cell_type": "markdown",
      "metadata": {
        "id": "view-in-github",
        "colab_type": "text"
      },
      "source": [
        "<a href=\"https://colab.research.google.com/github/Anila-zafirah/Overloading/blob/main/Anila_Tugas_Overloading_2.ipynb\" target=\"_parent\"><img src=\"https://colab.research.google.com/assets/colab-badge.svg\" alt=\"Open In Colab\"/></a>"
      ]
    },
    {
      "cell_type": "code",
      "execution_count": 43,
      "metadata": {
        "id": "5zCytCeM1uD4"
      },
      "outputs": [],
      "source": [
        "#class Nama\n",
        "#Buat fungsi yang digunakan untuk mengabungkan nama dengan ketentuan nama depan, nama tengah, nama akhir, dan seterusnya dianggap 1 (satu) parameter\n",
        "class Nama:\n",
        "  def gabung(self, num1=\"\", num2=\"\", num3=\"\", num4=\"\", num5=\"\"):\n",
        "    print(num1 + num2 + num3 + num4 + num5)"
      ]
    },
    {
      "cell_type": "code",
      "source": [
        "#Buat main program\n",
        "#Panggil fungsi untuk membuat nama lengkap 4 nama teman kalia\n",
        "a = Nama()\n",
        "\n",
        "a.gabung(\"Anila \", \"Yaffa \", \"Zafirah\")\n",
        "a.gabung(\"Manda \", \"Priyanita \")\n",
        "a.gabung(\"Selly \", \"Mutomimah \")\n",
        "a.gabung(\"Anisa \", \"Yaffa \", \"Zafirah \")"
      ],
      "metadata": {
        "id": "liQBcJWZ12MN",
        "colab": {
          "base_uri": "https://localhost:8080/"
        },
        "outputId": "a55fd846-1e77-4217-9716-677bc6132314"
      },
      "execution_count": 48,
      "outputs": [
        {
          "output_type": "stream",
          "name": "stdout",
          "text": [
            "Anila Yaffa Zafirah\n",
            "Manda Priyanita \n",
            "Selly Mutomimah \n",
            "Anisa Yaffa Zafirah \n"
          ]
        }
      ]
    },
    {
      "cell_type": "markdown",
      "source": [
        "***Tuliskan kesimpulan dari materi Overloading menurut pemahaman anda!***\n",
        "\n",
        "Bahasa pemrograman yang bisa mendeklarasikan lebih dari satu metode dengan nama yang sama, tapi dengan tipe dan jumlah argumen yang berbeda."
      ],
      "metadata": {
        "id": "So3bFLDjoa7e"
      }
    }
  ]
}