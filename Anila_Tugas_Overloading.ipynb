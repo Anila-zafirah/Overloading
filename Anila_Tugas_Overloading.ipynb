{
  "nbformat": 4,
  "nbformat_minor": 0,
  "metadata": {
    "colab": {
      "provenance": [],
      "include_colab_link": true
    },
    "kernelspec": {
      "name": "python3",
      "display_name": "Python 3"
    },
    "language_info": {
      "name": "python"
    }
  },
  "cells": [
    {
      "cell_type": "markdown",
      "metadata": {
        "id": "view-in-github",
        "colab_type": "text"
      },
      "source": [
        "<a href=\"https://colab.research.google.com/github/Anila-zafirah/Overloading/blob/main/Anila_Tugas_Overloading.ipynb\" target=\"_parent\"><img src=\"https://colab.research.google.com/assets/colab-badge.svg\" alt=\"Open In Colab\"/></a>"
      ]
    },
    {
      "cell_type": "code",
      "execution_count": 17,
      "metadata": {
        "id": "cytAUNWzM1-6"
      },
      "outputs": [],
      "source": [
        "#Buat Perkalian yang memiliki Sebuah fungsi dangan nama Hitung\n",
        "class Perkalian:\n",
        "    def hasil(self, *args):\n",
        "        jumlah = 1\n",
        "        for angka in args:\n",
        "            jumlah *= angka\n",
        "        print(jumlah)"
      ]
    },
    {
      "cell_type": "code",
      "source": [
        "class Kali:\n",
        "  def hitung(self, *args):\n",
        "    if (len(args) <= 3):\n",
        "        jumlah = 1\n",
        "        for angka in args:\n",
        "            jumlah *= angka\n",
        "        print(jumlah)\n",
        "    else:\n",
        "        print(\"Maksimum 3 argument\")"
      ],
      "metadata": {
        "id": "K0tPwlsAq0Qj"
      },
      "execution_count": 19,
      "outputs": []
    },
    {
      "cell_type": "code",
      "source": [
        "#Buat main program\n",
        "a = Perkalian()\n",
        "b = Kali()\n",
        "\n",
        "#Panggil fungsi Hitung untuk menghitung 2 parameter\n",
        "a.hasil(3, 9)\n",
        "#Panggil fungsi Hitung untuk menghitung 3 parameter\n",
        "a.hasil(5, 2, 7)\n",
        "#Panggil fungsi Hitung untuk menghitung 4 parameter\n",
        "a.hasil(3, 5, 6, 6)\n",
        "print('')\n",
        "b.hitung(4,12)\n",
        "b.hitung(2,20,34,86)\n",
        "b.hitung(50, 40,21)"
      ],
      "metadata": {
        "id": "W9hN-kX7PDUI",
        "colab": {
          "base_uri": "https://localhost:8080/"
        },
        "outputId": "991d8886-1ba6-4b32-c5b7-f25d07dc03ce"
      },
      "execution_count": 21,
      "outputs": [
        {
          "output_type": "stream",
          "name": "stdout",
          "text": [
            "27\n",
            "70\n",
            "540\n",
            "\n",
            "48\n",
            "Maksimum 3 argument\n",
            "42000\n"
          ]
        }
      ]
    }
  ]
}